{
 "cells": [
  {
   "cell_type": "markdown",
   "id": "1bf22e34",
   "metadata": {},
   "source": [
    "### 1. Base Python"
   ]
  },
  {
   "cell_type": "code",
   "execution_count": null,
   "id": "8c71637c",
   "metadata": {},
   "outputs": [],
   "source": [
    "print('Hello World')"
   ]
  },
  {
   "cell_type": "code",
   "execution_count": null,
   "id": "ee7f3863",
   "metadata": {},
   "outputs": [],
   "source": [
    "# concatenation \n",
    "str1 = 'Hello '\n",
    "str2 = 'My Name Is Luke'\n",
    "\n",
    "str1 + str2"
   ]
  },
  {
   "cell_type": "markdown",
   "id": "ab7c69df",
   "metadata": {},
   "source": [
    "#### Lists "
   ]
  },
  {
   "cell_type": "code",
   "execution_count": null,
   "id": "5db04633",
   "metadata": {},
   "outputs": [],
   "source": [
    "# Lists - stores items in a particular series/order \n",
    "l1 = ['a','b','c','d']\n",
    "l2 = ['d','e','f','g']\n",
    "\n",
    "# first item\n",
    "print(l1[0])\n",
    "\n",
    "# last item\n",
    "print(l1[-1])\n",
    "\n",
    "# iterating through lists\n",
    "for i in l2:\n",
    "    print(i)\n",
    "\n",
    "# adding to lists\n",
    "l1.append('g')\n",
    "print(l1)\n",
    "\n",
    "# slicing lists \n",
    "first_two = l1[:2] # you are SLICING away the last 2\n",
    "print(first_two)\n",
    "\n",
    "last_three = l2[1:] # you are SLICING away the first 1\n",
    "print(last_three)\n",
    "\n",
    "# copying lists \n",
    "l3 = l2[:]\n",
    "print(l3)"
   ]
  },
  {
   "cell_type": "code",
   "execution_count": null,
   "id": "752f8fe8",
   "metadata": {},
   "outputs": [],
   "source": [
    "# making numerical lists \n",
    "listnum = []\n",
    "for i in range(1,11):\n",
    "    listnum.append(i**2)\n",
    "print(listnum)\n",
    "\n",
    "# making numerical lists - list comprehension\n",
    "squares = [x**2 for x in range(1, 11)]\n",
    "print(squares)"
   ]
  },
  {
   "cell_type": "code",
   "execution_count": null,
   "id": "c9b597bc",
   "metadata": {},
   "outputs": [],
   "source": [
    "# sorting lists - permanently uses .sort() ; temporarily uses .sorted()\n",
    "users = ['val', 'bob', 'mia', 'ron', 'ned']\n",
    "users.sort(reverse=False)\n",
    "print(users)\n",
    "\n",
    "num = [2,3,4,5,2,1,4]\n",
    "num.sort(reverse=True)\n",
    "print(num)"
   ]
  },
  {
   "cell_type": "code",
   "execution_count": 4,
   "id": "3a74b0d2",
   "metadata": {},
   "outputs": [
    {
     "name": "stdout",
     "output_type": "stream",
     "text": [
      "the biggest num is:  99\n",
      "the smallest num is:  1\n",
      "the sum of all nums is:  4950\n"
     ]
    }
   ],
   "source": [
    "# simple statistics\n",
    "nums = []\n",
    "for num in range(1,100):\n",
    "    nums.append(num)\n",
    "    \n",
    "max_nums = max(nums)\n",
    "print('the biggest num is: ', max_nums)\n",
    "min_nums = min(nums)\n",
    "print('the smallest num is: ', min_nums)\n",
    "sum_nums = sum(nums)\n",
    "print('the sum of all nums is: ', sum_nums)"
   ]
  },
  {
   "cell_type": "markdown",
   "id": "3df7f2ba",
   "metadata": {},
   "source": [
    "#### Tuples & Conditional Statements"
   ]
  },
  {
   "cell_type": "code",
   "execution_count": null,
   "id": "dff1c0ec",
   "metadata": {},
   "outputs": [],
   "source": [
    "# Tuples (...)\n",
    "dim = (1920,1080)\n",
    "print(dim)"
   ]
  },
  {
   "cell_type": "code",
   "execution_count": null,
   "id": "49d47a12",
   "metadata": {},
   "outputs": [],
   "source": [
    "# conditions \n",
    "x == 1 # equals to\n",
    "x != 1 # not equals to \n",
    "x > 2 # greater than\n",
    "OR x >= 2 # greater than or equal to\n",
    "x < 2 # less than\n",
    "OR x <= 2 # less than or equal to \n",
    "\n"
   ]
  },
  {
   "cell_type": "code",
   "execution_count": null,
   "id": "7bad7c4d",
   "metadata": {},
   "outputs": [],
   "source": [
    "# list conditional tests \n",
    "'a' in l1\n",
    "'d' not in l2 "
   ]
  },
  {
   "cell_type": "markdown",
   "id": "eb23b316",
   "metadata": {},
   "source": [
    "#### For Loops"
   ]
  },
  {
   "cell_type": "code",
   "execution_count": null,
   "id": "4028e530",
   "metadata": {},
   "outputs": [],
   "source": [
    "# if-elif-else statements \n",
    "ages = [5, 23, 6, 69, 70, 35]\n",
    "cost = []\n",
    "for age in ages:\n",
    "    if age < 12:\n",
    "        ticket_price = 5\n",
    "        cost.append(ticket_price)\n",
    "    elif age > 65:\n",
    "        ticket_price = 5\n",
    "        cost.append(ticket_price)\n",
    "    else:\n",
    "        ticket_price = 10\n",
    "        cost.append(ticket_price)\n",
    "\n",
    "print(cost)"
   ]
  },
  {
   "cell_type": "markdown",
   "id": "3844fc43",
   "metadata": {},
   "source": [
    "#### Dictionaries "
   ]
  },
  {
   "cell_type": "code",
   "execution_count": null,
   "id": "188e204b",
   "metadata": {},
   "outputs": [],
   "source": [
    "# Dictionaries - store connections between pieces of info; key-value pair\n",
    "car = {'color': 'red',\n",
    "      'horsepower': 10,\n",
    "      'drivetrain': 'RWD'}\n",
    "\n",
    "# accessing values \n",
    "car['color']\n",
    "\n",
    "# add new key-value pair\n",
    "car['torque'] = 345\n",
    "\n",
    "# access all keys and values \n",
    "car.items()\n",
    "\n",
    "# access all keys \n",
    "car.keys()\n",
    "\n",
    "# access all values\n",
    "car.values()"
   ]
  },
  {
   "cell_type": "markdown",
   "id": "ba303e0b",
   "metadata": {},
   "source": [
    "#### While Loops "
   ]
  },
  {
   "cell_type": "code",
   "execution_count": null,
   "id": "f930e815",
   "metadata": {},
   "outputs": [],
   "source": [
    "# While Loops - repeats code if given condition is true\n",
    "x = 50\n",
    "while x <= 55:\n",
    "    print(x)\n",
    "    if x == 53:\n",
    "        break\n",
    "    x += 1"
   ]
  },
  {
   "cell_type": "markdown",
   "id": "b2b00b97",
   "metadata": {},
   "source": [
    "#### Functions"
   ]
  },
  {
   "cell_type": "code",
   "execution_count": null,
   "id": "81b89849",
   "metadata": {},
   "outputs": [],
   "source": [
    "# Functions - blocks of code with predetermined job; info passed to fn == argument, info received by fn == parameter\n",
    "# passing an argument\n",
    "def greet_user(username):\n",
    "    \"\"\"Display a personalized greeting.\"\"\"\n",
    "    print(\"Hello, \" + username + \"!\")\n",
    "\n",
    "greet_user('jesse')"
   ]
  },
  {
   "cell_type": "code",
   "execution_count": null,
   "id": "eac89765",
   "metadata": {},
   "outputs": [],
   "source": [
    "# setting a parameter\n",
    "def make_pizza(topping='bacon'):\n",
    "    \"\"\"Make a single-topping pizza.\"\"\"\n",
    "    print(\"Have a \" + topping + \" pizza!\")\n",
    "    \n",
    "make_pizza()\n",
    "make_pizza('pepperoni')"
   ]
  },
  {
   "cell_type": "code",
   "execution_count": null,
   "id": "da1d1279",
   "metadata": {},
   "outputs": [],
   "source": [
    "# returning a value\n",
    "def add_numbers(x, y):\n",
    "    \"\"\"Add two numbers and return the sum.\"\"\"\n",
    "    return x + y\n",
    "\n",
    "sum = add_numbers(3, 5)\n",
    "print(sum)"
   ]
  },
  {
   "cell_type": "markdown",
   "id": "c8878593",
   "metadata": {},
   "source": [
    "#### Classes"
   ]
  },
  {
   "cell_type": "code",
   "execution_count": null,
   "id": "be5b4685",
   "metadata": {},
   "outputs": [],
   "source": [
    "# Classes - allow one to define behaviour of an object; kind of information that can be stored\n",
    "class Dog():\n",
    "    \"\"\"Represent a dog.\"\"\"\n",
    "    \n",
    "    def __init__(self, name):\n",
    "        \"\"\"Initialize dog object.\"\"\"\n",
    "        self.name = name\n",
    "        \n",
    "    def sit(self):\n",
    "        \"\"\"Simulate sitting.\"\"\"\n",
    "        print(self.name + \" is sitting.\")\n",
    "\n",
    "my_dog = Dog('Peso')\n",
    "print(my_dog.name + \" is a great dog!\")\n",
    "my_dog.sit()"
   ]
  },
  {
   "cell_type": "code",
   "execution_count": null,
   "id": "22ca6f56",
   "metadata": {},
   "outputs": [],
   "source": [
    "class SARDog(Dog):\n",
    "    \"\"\"Represent a search dog.\"\"\"\n",
    "    \n",
    "    def __init__(self, name):\n",
    "        \"\"\"Initialize the sardog.\"\"\"\n",
    "        super().__init__(name)\n",
    "        \n",
    "    def search(self):\n",
    "        \"\"\"Simulate searching.\"\"\"\n",
    "        print(self.name + \" is searching.\")\n",
    "\n",
    "my_dog = SARDog('Willie')\n",
    "print(my_dog.name + \" is a search dog.\")\n",
    "my_dog.sit()\n",
    "my_dog.search()"
   ]
  },
  {
   "cell_type": "code",
   "execution_count": null,
   "id": "6184a069",
   "metadata": {},
   "outputs": [],
   "source": []
  }
 ],
 "metadata": {
  "kernelspec": {
   "display_name": "Python 3 (ipykernel)",
   "language": "python",
   "name": "python3"
  },
  "language_info": {
   "codemirror_mode": {
    "name": "ipython",
    "version": 3
   },
   "file_extension": ".py",
   "mimetype": "text/x-python",
   "name": "python",
   "nbconvert_exporter": "python",
   "pygments_lexer": "ipython3",
   "version": "3.10.9"
  }
 },
 "nbformat": 4,
 "nbformat_minor": 5
}
