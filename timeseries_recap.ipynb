{
 "cells": [
  {
   "cell_type": "markdown",
   "id": "af9b4219",
   "metadata": {},
   "source": [
    "### Time Series"
   ]
  },
  {
   "cell_type": "markdown",
   "id": "86503a6c",
   "metadata": {},
   "source": [
    "#### workflow\n",
    "\n",
    "    1.) Data Cleaning/Transformations/Decomposition \n",
    "    2.) EDA/Time Series Visualisation\n",
    "    3.) Stationarity \n",
    "    4.) Feature Engineering \n",
    "    5.) Modelling Approaches\n",
    "    "
   ]
  },
  {
   "cell_type": "code",
   "execution_count": null,
   "id": "cc555199",
   "metadata": {},
   "outputs": [],
   "source": []
  }
 ],
 "metadata": {
  "kernelspec": {
   "display_name": "Python 3 (ipykernel)",
   "language": "python",
   "name": "python3"
  },
  "language_info": {
   "codemirror_mode": {
    "name": "ipython",
    "version": 3
   },
   "file_extension": ".py",
   "mimetype": "text/x-python",
   "name": "python",
   "nbconvert_exporter": "python",
   "pygments_lexer": "ipython3",
   "version": "3.10.9"
  }
 },
 "nbformat": 4,
 "nbformat_minor": 5
}
