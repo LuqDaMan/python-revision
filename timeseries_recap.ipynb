{
 "cells": [
  {
   "cell_type": "markdown",
   "id": "af9b4219",
   "metadata": {},
   "source": [
    "### Time Series"
   ]
  },
  {
   "cell_type": "markdown",
   "id": "002692d7",
   "metadata": {},
   "source": [
    "* time series is tricky, tests are error prone\n",
    "\n",
    "* types of time series: global temperatures/economic data/stock prices/speech recognition"
   ]
  },
  {
   "cell_type": "code",
   "execution_count": 2,
   "id": "2c07edda",
   "metadata": {},
   "outputs": [],
   "source": [
    "import pandas as pd\n",
    "import numpy as np \n",
    "import matplotlib.pyplot as plt"
   ]
  },
  {
   "cell_type": "markdown",
   "id": "86503a6c",
   "metadata": {},
   "source": [
    "#### workflow\n",
    "\n",
    "    1.) Basics of handling Time Series data \n",
    "    2.) Data Cleaning/Transformations/Decomposition \n",
    "    3.) EDA/Time Series Visualisation\n",
    "    4.) Stationarity \n",
    "    5.) Feature Engineering \n",
    "    6.) Modelling Approaches\n",
    "    "
   ]
  },
  {
   "cell_type": "markdown",
   "id": "7391bbd6",
   "metadata": {},
   "source": [
    "this notebook will be looking at **point (1)**."
   ]
  },
  {
   "cell_type": "markdown",
   "id": "2aea2746",
   "metadata": {},
   "source": [
    "## Basics of handling Time Series data"
   ]
  },
  {
   "cell_type": "markdown",
   "id": "14d0b4a1",
   "metadata": {},
   "source": [
    "### 1 - Date & Time"
   ]
  },
  {
   "cell_type": "markdown",
   "id": "65104786",
   "metadata": {},
   "source": [
    "`.date_range()` method \n",
    "* check out the pandas docs for more argument parameters "
   ]
  },
  {
   "cell_type": "code",
   "execution_count": 3,
   "id": "77c370c0",
   "metadata": {},
   "outputs": [
    {
     "data": {
      "text/plain": [
       "DatetimeIndex(['2024-05-01', '2024-05-02', '2024-05-03', '2024-05-04',\n",
       "               '2024-05-05', '2024-05-06', '2024-05-07', '2024-05-08',\n",
       "               '2024-05-09', '2024-05-10'],\n",
       "              dtype='datetime64[ns]', freq='D')"
      ]
     },
     "execution_count": 3,
     "metadata": {},
     "output_type": "execute_result"
    }
   ],
   "source": [
    "rng = pd.date_range(start = '2024 May 1', periods = 10, freq = 'D')\n",
    "rng"
   ]
  },
  {
   "cell_type": "code",
   "execution_count": 4,
   "id": "2591a97b",
   "metadata": {},
   "outputs": [
    {
     "data": {
      "text/plain": [
       "pandas._libs.tslibs.timestamps.Timestamp"
      ]
     },
     "execution_count": 4,
     "metadata": {},
     "output_type": "execute_result"
    }
   ],
   "source": [
    "type(rng[0])"
   ]
  },
  {
   "cell_type": "markdown",
   "id": "8aab3b37",
   "metadata": {},
   "source": [
    "**timestamps**"
   ]
  },
  {
   "cell_type": "code",
   "execution_count": 6,
   "id": "f0fabc85",
   "metadata": {},
   "outputs": [
    {
     "data": {
      "text/plain": [
       "Timestamp('2024-05-19 00:00:00')"
      ]
     },
     "execution_count": 6,
     "metadata": {},
     "output_type": "execute_result"
    }
   ],
   "source": [
    "t = pd.Timestamp('2024 May 19') # goes down to nanoseconds; 64-bit datatype\n",
    "t"
   ]
  },
  {
   "cell_type": "markdown",
   "id": "234f7848",
   "metadata": {},
   "source": [
    "timestamp properties \n",
    "\n",
    "- refer to https://pandas.pydata.org/pandas-docs/stable/user_guide/timeseries.html"
   ]
  },
  {
   "cell_type": "code",
   "execution_count": 8,
   "id": "64caf209",
   "metadata": {},
   "outputs": [
    {
     "data": {
      "text/plain": [
       "2"
      ]
     },
     "execution_count": 8,
     "metadata": {},
     "output_type": "execute_result"
    }
   ],
   "source": [
    "t.quarter"
   ]
  },
  {
   "cell_type": "code",
   "execution_count": 11,
   "id": "6cec31ad",
   "metadata": {},
   "outputs": [
    {
     "data": {
      "text/plain": [
       "6"
      ]
     },
     "execution_count": 11,
     "metadata": {},
     "output_type": "execute_result"
    }
   ],
   "source": [
    "t.dayofweek"
   ]
  },
  {
   "cell_type": "markdown",
   "id": "493dbd7f",
   "metadata": {},
   "source": [
    "**timedelta**"
   ]
  },
  {
   "cell_type": "code",
   "execution_count": 13,
   "id": "d61f84ba",
   "metadata": {},
   "outputs": [
    {
     "data": {
      "text/plain": [
       "Timedelta('1 days 00:00:00.001000')"
      ]
     },
     "execution_count": 13,
     "metadata": {},
     "output_type": "execute_result"
    }
   ],
   "source": [
    "pd.Timedelta('1d 1ms')"
   ]
  },
  {
   "cell_type": "markdown",
   "id": "9405a8fc",
   "metadata": {},
   "source": [
    "time offsets "
   ]
  },
  {
   "cell_type": "code",
   "execution_count": 16,
   "id": "bfc8eedc",
   "metadata": {},
   "outputs": [
    {
     "data": {
      "text/plain": [
       "Timestamp('2024-05-19 09:30:00')"
      ]
     },
     "execution_count": 16,
     "metadata": {},
     "output_type": "execute_result"
    }
   ],
   "source": [
    "pd.Timestamp('2024 May 19 8:00') + pd.Timedelta('1.5h')"
   ]
  },
  {
   "cell_type": "markdown",
   "id": "e08b7f29",
   "metadata": {},
   "source": [
    "**timespans**"
   ]
  },
  {
   "cell_type": "code",
   "execution_count": 18,
   "id": "1ff7b8b5",
   "metadata": {},
   "outputs": [],
   "source": [
    "p = pd.Period('May 2024')\n",
    "t = pd.Timestamp('2024 May 19 8:00')"
   ]
  },
  {
   "cell_type": "code",
   "execution_count": 19,
   "id": "270832b5",
   "metadata": {},
   "outputs": [
    {
     "data": {
      "text/plain": [
       "True"
      ]
     },
     "execution_count": 19,
     "metadata": {},
     "output_type": "execute_result"
    }
   ],
   "source": [
    "p.start_time < t and p.end_time > t"
   ]
  },
  {
   "cell_type": "code",
   "execution_count": 23,
   "id": "e9b84ba1",
   "metadata": {},
   "outputs": [
    {
     "data": {
      "text/plain": [
       "PeriodIndex(['2024-05-01 12:15', '2024-05-01 13:15', '2024-05-01 14:15',\n",
       "             '2024-05-01 15:15', '2024-05-01 16:15', '2024-05-01 17:15',\n",
       "             '2024-05-01 18:15', '2024-05-01 19:15', '2024-05-01 20:15',\n",
       "             '2024-05-01 21:15'],\n",
       "            dtype='period[60T]')"
      ]
     },
     "execution_count": 23,
     "metadata": {},
     "output_type": "execute_result"
    }
   ],
   "source": [
    "rng = pd.period_range(start='1 May 2024 12:15', freq= '60T',periods = 10) #look at discrepancy with 'H'\n",
    "rng"
   ]
  },
  {
   "cell_type": "markdown",
   "id": "8c2a2287",
   "metadata": {},
   "source": [
    "Indexing Time Series with a date_range"
   ]
  },
  {
   "cell_type": "code",
   "execution_count": 25,
   "id": "518ac97d",
   "metadata": {},
   "outputs": [
    {
     "data": {
      "text/plain": [
       "2024-05-01 12:15:00    0\n",
       "2024-05-01 13:15:00    1\n",
       "2024-05-01 14:15:00    2\n",
       "2024-05-01 15:15:00    3\n",
       "2024-05-01 16:15:00    4\n",
       "Freq: 60T, dtype: int64"
      ]
     },
     "execution_count": 25,
     "metadata": {},
     "output_type": "execute_result"
    }
   ],
   "source": [
    "period = 40\n",
    "ts_dt = pd.Series(range(period),pd.date_range('1 May 2024 12:15', freq='60T', periods=period))\n",
    "ts_dt.head()"
   ]
  },
  {
   "cell_type": "code",
   "execution_count": 27,
   "id": "4fcd1f14",
   "metadata": {},
   "outputs": [
    {
     "data": {
      "text/plain": [
       "pandas.core.indexes.datetimes.DatetimeIndex"
      ]
     },
     "execution_count": 27,
     "metadata": {},
     "output_type": "execute_result"
    }
   ],
   "source": [
    "type(ts_dt.index)"
   ]
  },
  {
   "cell_type": "markdown",
   "id": "93314521",
   "metadata": {},
   "source": [
    "NOTE: it's either a point in time or a period in time -- each will have its own datatype and its own index"
   ]
  },
  {
   "cell_type": "markdown",
   "id": "3514bdc3",
   "metadata": {},
   "source": [
    "Converting to PeriodIndex"
   ]
  },
  {
   "cell_type": "code",
   "execution_count": 30,
   "id": "56099cba",
   "metadata": {},
   "outputs": [
    {
     "data": {
      "text/plain": [
       "2024-05-01 12:15    0\n",
       "2024-05-01 13:15    1\n",
       "2024-05-01 14:15    2\n",
       "2024-05-01 15:15    3\n",
       "2024-05-01 16:15    4\n",
       "Freq: 60T, dtype: int64"
      ]
     },
     "execution_count": 30,
     "metadata": {},
     "output_type": "execute_result"
    }
   ],
   "source": [
    "ts_pd = ts_dt.to_period(freq='60T') # no seconds in period -- every second is within the period\n",
    "ts_pd.head()"
   ]
  },
  {
   "cell_type": "code",
   "execution_count": 39,
   "id": "eead9319",
   "metadata": {},
   "outputs": [
    {
     "data": {
      "text/plain": [
       "2024-05-01 13:15:00    1\n",
       "Freq: 60T, dtype: int64"
      ]
     },
     "execution_count": 39,
     "metadata": {},
     "output_type": "execute_result"
    }
   ],
   "source": [
    "ts_dt['1 May 2024 13']"
   ]
  },
  {
   "cell_type": "code",
   "execution_count": 38,
   "id": "1001887d",
   "metadata": {},
   "outputs": [
    {
     "data": {
      "text/plain": [
       "2024-05-01 13:15    1\n",
       "Freq: 60T, dtype: int64"
      ]
     },
     "execution_count": 38,
     "metadata": {},
     "output_type": "execute_result"
    }
   ],
   "source": [
    "ts_pd['1 May 2024 13']"
   ]
  },
  {
   "cell_type": "code",
   "execution_count": 40,
   "id": "5af9ce87",
   "metadata": {
    "collapsed": true
   },
   "outputs": [
    {
     "data": {
      "text/plain": [
       "2024-05-01 12:15     0\n",
       "2024-05-01 13:15     1\n",
       "2024-05-01 14:15     2\n",
       "2024-05-01 15:15     3\n",
       "2024-05-01 16:15     4\n",
       "2024-05-01 17:15     5\n",
       "2024-05-01 18:15     6\n",
       "2024-05-01 19:15     7\n",
       "2024-05-01 20:15     8\n",
       "2024-05-01 21:15     9\n",
       "2024-05-01 22:15    10\n",
       "2024-05-01 23:15    11\n",
       "2024-05-02 00:15    12\n",
       "2024-05-02 01:15    13\n",
       "2024-05-02 02:15    14\n",
       "2024-05-02 03:15    15\n",
       "2024-05-02 04:15    16\n",
       "2024-05-02 05:15    17\n",
       "2024-05-02 06:15    18\n",
       "2024-05-02 07:15    19\n",
       "2024-05-02 08:15    20\n",
       "2024-05-02 09:15    21\n",
       "2024-05-02 10:15    22\n",
       "2024-05-02 11:15    23\n",
       "2024-05-02 12:15    24\n",
       "2024-05-02 13:15    25\n",
       "2024-05-02 14:15    26\n",
       "2024-05-02 15:15    27\n",
       "2024-05-02 16:15    28\n",
       "2024-05-02 17:15    29\n",
       "2024-05-02 18:15    30\n",
       "2024-05-02 19:15    31\n",
       "2024-05-02 20:15    32\n",
       "2024-05-02 21:15    33\n",
       "2024-05-02 22:15    34\n",
       "2024-05-02 23:15    35\n",
       "Freq: 60T, dtype: int64"
      ]
     },
     "execution_count": 40,
     "metadata": {},
     "output_type": "execute_result"
    }
   ],
   "source": [
    "# grabbing periods of interest\n",
    "ts_pd['1 May 2024':'2 May 2024']"
   ]
  },
  {
   "cell_type": "markdown",
   "id": "42719089",
   "metadata": {},
   "source": [
    "Generating string representation of datetime:"
   ]
  },
  {
   "cell_type": "code",
   "execution_count": 47,
   "id": "37a3b0d6",
   "metadata": {},
   "outputs": [
    {
     "data": {
      "text/plain": [
       "Timestamp('2024-05-19 08:00:00')"
      ]
     },
     "execution_count": 47,
     "metadata": {},
     "output_type": "execute_result"
    }
   ],
   "source": [
    "t"
   ]
  },
  {
   "cell_type": "code",
   "execution_count": 45,
   "id": "8818c809",
   "metadata": {},
   "outputs": [
    {
     "data": {
      "text/plain": [
       "'2024-05-19'"
      ]
     },
     "execution_count": 45,
     "metadata": {},
     "output_type": "execute_result"
    }
   ],
   "source": [
    "ts = t.strftime(format='%Y-%m-%d')\n",
    "ts"
   ]
  },
  {
   "cell_type": "code",
   "execution_count": 46,
   "id": "399f8ced",
   "metadata": {},
   "outputs": [
    {
     "data": {
      "text/plain": [
       "str"
      ]
     },
     "execution_count": 46,
     "metadata": {},
     "output_type": "execute_result"
    }
   ],
   "source": [
    "type(ts)"
   ]
  },
  {
   "cell_type": "markdown",
   "id": "a6194589",
   "metadata": {},
   "source": [
    "### 2 - Timezones"
   ]
  },
  {
   "cell_type": "code",
   "execution_count": 52,
   "id": "e6994adb",
   "metadata": {},
   "outputs": [
    {
     "data": {
      "text/plain": [
       "<DstTzInfo 'US/Central' LMT-1 day, 18:09:00 STD>"
      ]
     },
     "execution_count": 52,
     "metadata": {},
     "output_type": "execute_result"
    }
   ],
   "source": [
    "rng = pd.date_range(start = '2024 May 1', periods = 10, freq = 'D', tz='US/Central')\n",
    "rng.tz"
   ]
  },
  {
   "cell_type": "markdown",
   "id": "51b67dc4",
   "metadata": {},
   "source": [
    "getting a list of all timezones"
   ]
  },
  {
   "cell_type": "code",
   "execution_count": 53,
   "id": "f411c78f",
   "metadata": {},
   "outputs": [],
   "source": [
    "from pytz import common_timezones, all_timezones"
   ]
  },
  {
   "cell_type": "code",
   "execution_count": 54,
   "id": "cdb2376a",
   "metadata": {},
   "outputs": [
    {
     "data": {
      "text/plain": [
       "434"
      ]
     },
     "execution_count": 54,
     "metadata": {},
     "output_type": "execute_result"
    }
   ],
   "source": [
    "len(common_timezones)"
   ]
  },
  {
   "cell_type": "code",
   "execution_count": 55,
   "id": "697dd1a0",
   "metadata": {},
   "outputs": [
    {
     "data": {
      "text/plain": [
       "596"
      ]
     },
     "execution_count": 55,
     "metadata": {},
     "output_type": "execute_result"
    }
   ],
   "source": [
    "len(all_timezones)"
   ]
  },
  {
   "cell_type": "code",
   "execution_count": 57,
   "id": "f1e0f0a5",
   "metadata": {
    "collapsed": true
   },
   "outputs": [
    {
     "data": {
      "text/plain": [
       "{'Africa/Asmera',\n",
       " 'Africa/Timbuktu',\n",
       " 'America/Argentina/ComodRivadavia',\n",
       " 'America/Atka',\n",
       " 'America/Buenos_Aires',\n",
       " 'America/Catamarca',\n",
       " 'America/Coral_Harbour',\n",
       " 'America/Cordoba',\n",
       " 'America/Ensenada',\n",
       " 'America/Fort_Wayne',\n",
       " 'America/Godthab',\n",
       " 'America/Indianapolis',\n",
       " 'America/Jujuy',\n",
       " 'America/Knox_IN',\n",
       " 'America/Louisville',\n",
       " 'America/Mendoza',\n",
       " 'America/Montreal',\n",
       " 'America/Nipigon',\n",
       " 'America/Pangnirtung',\n",
       " 'America/Porto_Acre',\n",
       " 'America/Rainy_River',\n",
       " 'America/Rosario',\n",
       " 'America/Santa_Isabel',\n",
       " 'America/Shiprock',\n",
       " 'America/Thunder_Bay',\n",
       " 'America/Virgin',\n",
       " 'Antarctica/South_Pole',\n",
       " 'Asia/Ashkhabad',\n",
       " 'Asia/Calcutta',\n",
       " 'Asia/Chongqing',\n",
       " 'Asia/Chungking',\n",
       " 'Asia/Dacca',\n",
       " 'Asia/Harbin',\n",
       " 'Asia/Istanbul',\n",
       " 'Asia/Kashgar',\n",
       " 'Asia/Katmandu',\n",
       " 'Asia/Macao',\n",
       " 'Asia/Rangoon',\n",
       " 'Asia/Saigon',\n",
       " 'Asia/Tel_Aviv',\n",
       " 'Asia/Thimbu',\n",
       " 'Asia/Ujung_Pandang',\n",
       " 'Asia/Ulan_Bator',\n",
       " 'Atlantic/Faeroe',\n",
       " 'Atlantic/Jan_Mayen',\n",
       " 'Australia/ACT',\n",
       " 'Australia/Canberra',\n",
       " 'Australia/Currie',\n",
       " 'Australia/LHI',\n",
       " 'Australia/NSW',\n",
       " 'Australia/North',\n",
       " 'Australia/Queensland',\n",
       " 'Australia/South',\n",
       " 'Australia/Tasmania',\n",
       " 'Australia/Victoria',\n",
       " 'Australia/West',\n",
       " 'Australia/Yancowinna',\n",
       " 'Brazil/Acre',\n",
       " 'Brazil/DeNoronha',\n",
       " 'Brazil/East',\n",
       " 'Brazil/West',\n",
       " 'CET',\n",
       " 'CST6CDT',\n",
       " 'Canada/Saskatchewan',\n",
       " 'Canada/Yukon',\n",
       " 'Chile/Continental',\n",
       " 'Chile/EasterIsland',\n",
       " 'Cuba',\n",
       " 'EET',\n",
       " 'EST',\n",
       " 'EST5EDT',\n",
       " 'Egypt',\n",
       " 'Eire',\n",
       " 'Etc/GMT',\n",
       " 'Etc/GMT+0',\n",
       " 'Etc/GMT+1',\n",
       " 'Etc/GMT+10',\n",
       " 'Etc/GMT+11',\n",
       " 'Etc/GMT+12',\n",
       " 'Etc/GMT+2',\n",
       " 'Etc/GMT+3',\n",
       " 'Etc/GMT+4',\n",
       " 'Etc/GMT+5',\n",
       " 'Etc/GMT+6',\n",
       " 'Etc/GMT+7',\n",
       " 'Etc/GMT+8',\n",
       " 'Etc/GMT+9',\n",
       " 'Etc/GMT-0',\n",
       " 'Etc/GMT-1',\n",
       " 'Etc/GMT-10',\n",
       " 'Etc/GMT-11',\n",
       " 'Etc/GMT-12',\n",
       " 'Etc/GMT-13',\n",
       " 'Etc/GMT-14',\n",
       " 'Etc/GMT-2',\n",
       " 'Etc/GMT-3',\n",
       " 'Etc/GMT-4',\n",
       " 'Etc/GMT-5',\n",
       " 'Etc/GMT-6',\n",
       " 'Etc/GMT-7',\n",
       " 'Etc/GMT-8',\n",
       " 'Etc/GMT-9',\n",
       " 'Etc/GMT0',\n",
       " 'Etc/Greenwich',\n",
       " 'Etc/UCT',\n",
       " 'Etc/UTC',\n",
       " 'Etc/Universal',\n",
       " 'Etc/Zulu',\n",
       " 'Europe/Belfast',\n",
       " 'Europe/Kiev',\n",
       " 'Europe/Nicosia',\n",
       " 'Europe/Tiraspol',\n",
       " 'Europe/Uzhgorod',\n",
       " 'Europe/Zaporozhye',\n",
       " 'GB',\n",
       " 'GB-Eire',\n",
       " 'GMT+0',\n",
       " 'GMT-0',\n",
       " 'GMT0',\n",
       " 'Greenwich',\n",
       " 'HST',\n",
       " 'Hongkong',\n",
       " 'Iceland',\n",
       " 'Iran',\n",
       " 'Israel',\n",
       " 'Jamaica',\n",
       " 'Japan',\n",
       " 'Kwajalein',\n",
       " 'Libya',\n",
       " 'MET',\n",
       " 'MST',\n",
       " 'MST7MDT',\n",
       " 'Mexico/BajaNorte',\n",
       " 'Mexico/BajaSur',\n",
       " 'Mexico/General',\n",
       " 'NZ',\n",
       " 'NZ-CHAT',\n",
       " 'Navajo',\n",
       " 'PRC',\n",
       " 'PST8PDT',\n",
       " 'Pacific/Enderbury',\n",
       " 'Pacific/Johnston',\n",
       " 'Pacific/Ponape',\n",
       " 'Pacific/Samoa',\n",
       " 'Pacific/Truk',\n",
       " 'Pacific/Yap',\n",
       " 'Poland',\n",
       " 'Portugal',\n",
       " 'ROC',\n",
       " 'ROK',\n",
       " 'Singapore',\n",
       " 'Turkey',\n",
       " 'UCT',\n",
       " 'US/Aleutian',\n",
       " 'US/East-Indiana',\n",
       " 'US/Indiana-Starke',\n",
       " 'US/Michigan',\n",
       " 'US/Samoa',\n",
       " 'Universal',\n",
       " 'W-SU',\n",
       " 'WET',\n",
       " 'Zulu'}"
      ]
     },
     "execution_count": 57,
     "metadata": {},
     "output_type": "execute_result"
    }
   ],
   "source": [
    "# finding non-common timezones\n",
    "set(all_timezones) - set(common_timezones)"
   ]
  },
  {
   "cell_type": "markdown",
   "id": "4ca1d169",
   "metadata": {},
   "source": [
    "localizing timezones"
   ]
  },
  {
   "cell_type": "code",
   "execution_count": 59,
   "id": "e6665e31",
   "metadata": {},
   "outputs": [],
   "source": [
    "t_naive = t"
   ]
  },
  {
   "cell_type": "code",
   "execution_count": 61,
   "id": "a7246743",
   "metadata": {},
   "outputs": [
    {
     "data": {
      "text/plain": [
       "Timestamp('2024-05-19 08:00:00-0500', tz='US/Central')"
      ]
     },
     "execution_count": 61,
     "metadata": {},
     "output_type": "execute_result"
    }
   ],
   "source": [
    "t = t_naive.tz_localize(tz = 'US/Central')\n",
    "t"
   ]
  },
  {
   "cell_type": "code",
   "execution_count": 63,
   "id": "49d30345",
   "metadata": {},
   "outputs": [
    {
     "data": {
      "text/plain": [
       "Timestamp('2024-05-19 22:00:00+0900', tz='Asia/Tokyo')"
      ]
     },
     "execution_count": 63,
     "metadata": {},
     "output_type": "execute_result"
    }
   ],
   "source": [
    "t.tz_convert('Asia/Tokyo')"
   ]
  },
  {
   "cell_type": "markdown",
   "id": "427306f4",
   "metadata": {},
   "source": [
    "### 3 - Data Frames "
   ]
  },
  {
   "cell_type": "code",
   "execution_count": 105,
   "id": "327131a4",
   "metadata": {},
   "outputs": [
    {
     "data": {
      "text/html": [
       "<div>\n",
       "<style scoped>\n",
       "    .dataframe tbody tr th:only-of-type {\n",
       "        vertical-align: middle;\n",
       "    }\n",
       "\n",
       "    .dataframe tbody tr th {\n",
       "        vertical-align: top;\n",
       "    }\n",
       "\n",
       "    .dataframe thead th {\n",
       "        text-align: right;\n",
       "    }\n",
       "</style>\n",
       "<table border=\"1\" class=\"dataframe\">\n",
       "  <thead>\n",
       "    <tr style=\"text-align: right;\">\n",
       "      <th></th>\n",
       "      <th>Month</th>\n",
       "      <th>Passengers</th>\n",
       "    </tr>\n",
       "  </thead>\n",
       "  <tbody>\n",
       "    <tr>\n",
       "      <th>0</th>\n",
       "      <td>1949-01</td>\n",
       "      <td>112</td>\n",
       "    </tr>\n",
       "    <tr>\n",
       "      <th>1</th>\n",
       "      <td>1949-02</td>\n",
       "      <td>118</td>\n",
       "    </tr>\n",
       "    <tr>\n",
       "      <th>2</th>\n",
       "      <td>1949-03</td>\n",
       "      <td>132</td>\n",
       "    </tr>\n",
       "    <tr>\n",
       "      <th>3</th>\n",
       "      <td>1949-04</td>\n",
       "      <td>129</td>\n",
       "    </tr>\n",
       "    <tr>\n",
       "      <th>4</th>\n",
       "      <td>1949-05</td>\n",
       "      <td>121</td>\n",
       "    </tr>\n",
       "    <tr>\n",
       "      <th>...</th>\n",
       "      <td>...</td>\n",
       "      <td>...</td>\n",
       "    </tr>\n",
       "    <tr>\n",
       "      <th>139</th>\n",
       "      <td>1960-08</td>\n",
       "      <td>606</td>\n",
       "    </tr>\n",
       "    <tr>\n",
       "      <th>140</th>\n",
       "      <td>1960-09</td>\n",
       "      <td>508</td>\n",
       "    </tr>\n",
       "    <tr>\n",
       "      <th>141</th>\n",
       "      <td>1960-10</td>\n",
       "      <td>461</td>\n",
       "    </tr>\n",
       "    <tr>\n",
       "      <th>142</th>\n",
       "      <td>1960-11</td>\n",
       "      <td>390</td>\n",
       "    </tr>\n",
       "    <tr>\n",
       "      <th>143</th>\n",
       "      <td>1960-12</td>\n",
       "      <td>432</td>\n",
       "    </tr>\n",
       "  </tbody>\n",
       "</table>\n",
       "<p>144 rows × 2 columns</p>\n",
       "</div>"
      ],
      "text/plain": [
       "       Month  Passengers\n",
       "0    1949-01         112\n",
       "1    1949-02         118\n",
       "2    1949-03         132\n",
       "3    1949-04         129\n",
       "4    1949-05         121\n",
       "..       ...         ...\n",
       "139  1960-08         606\n",
       "140  1960-09         508\n",
       "141  1960-10         461\n",
       "142  1960-11         390\n",
       "143  1960-12         432\n",
       "\n",
       "[144 rows x 2 columns]"
      ]
     },
     "execution_count": 105,
     "metadata": {},
     "output_type": "execute_result"
    }
   ],
   "source": [
    "df = pd.read_csv(\"airline-passengers.csv\")\n",
    "df"
   ]
  },
  {
   "cell_type": "code",
   "execution_count": 106,
   "id": "12ca2a40",
   "metadata": {},
   "outputs": [
    {
     "data": {
      "text/plain": [
       "str"
      ]
     },
     "execution_count": 106,
     "metadata": {},
     "output_type": "execute_result"
    }
   ],
   "source": [
    "type(df['Month'][0])"
   ]
  },
  {
   "cell_type": "code",
   "execution_count": 107,
   "id": "8492b880",
   "metadata": {},
   "outputs": [
    {
     "data": {
      "text/plain": [
       "pandas._libs.tslibs.timestamps.Timestamp"
      ]
     },
     "execution_count": 107,
     "metadata": {},
     "output_type": "execute_result"
    }
   ],
   "source": [
    "# converting from str to datetime\n",
    "df['Month'] = pd.to_datetime(df['Month'])\n",
    "type(df['Month'][0])"
   ]
  },
  {
   "cell_type": "code",
   "execution_count": 108,
   "id": "73549bb4",
   "metadata": {},
   "outputs": [],
   "source": [
    "# set the time series to be the index\n",
    "df.set_index('Month', inplace=True)"
   ]
  },
  {
   "cell_type": "code",
   "execution_count": 109,
   "id": "4faade17",
   "metadata": {},
   "outputs": [
    {
     "data": {
      "text/plain": [
       "Timestamp('1949-01-01 00:00:00')"
      ]
     },
     "execution_count": 109,
     "metadata": {},
     "output_type": "execute_result"
    }
   ],
   "source": [
    "min(df.index)"
   ]
  },
  {
   "cell_type": "code",
   "execution_count": 110,
   "id": "138f1b9d",
   "metadata": {},
   "outputs": [
    {
     "data": {
      "text/plain": [
       "Timestamp('1960-12-01 00:00:00')"
      ]
     },
     "execution_count": 110,
     "metadata": {},
     "output_type": "execute_result"
    }
   ],
   "source": [
    "max(df.index)"
   ]
  },
  {
   "cell_type": "code",
   "execution_count": 111,
   "id": "2c23063a",
   "metadata": {},
   "outputs": [],
   "source": [
    "#recall that the original data did not specify a day so is a datetime index the most appropriate or is period better?\n",
    "df = df.to_period()"
   ]
  },
  {
   "cell_type": "code",
   "execution_count": 112,
   "id": "71cf7b91",
   "metadata": {},
   "outputs": [
    {
     "data": {
      "text/plain": [
       "pandas.core.indexes.period.PeriodIndex"
      ]
     },
     "execution_count": 112,
     "metadata": {},
     "output_type": "execute_result"
    }
   ],
   "source": [
    "type(df.index)"
   ]
  },
  {
   "cell_type": "markdown",
   "id": "8cc74ec3",
   "metadata": {},
   "source": [
    "### 4 - Resampling"
   ]
  },
  {
   "cell_type": "code",
   "execution_count": 118,
   "id": "95afac40",
   "metadata": {},
   "outputs": [
    {
     "data": {
      "text/plain": [
       "2024-01-01 00:00:00   -0.393337\n",
       "2024-01-01 01:00:00    0.504862\n",
       "2024-01-01 02:00:00    0.498541\n",
       "2024-01-01 03:00:00    0.098339\n",
       "2024-01-01 04:00:00    0.759361\n",
       "Freq: H, dtype: float64"
      ]
     },
     "execution_count": 118,
     "metadata": {},
     "output_type": "execute_result"
    }
   ],
   "source": [
    "rng = pd.date_range('1/1/2024', periods=72, freq='H')\n",
    "ts = pd.Series(np.random.randn(len(rng)), index=rng)\n",
    "ts.head()"
   ]
  },
  {
   "cell_type": "markdown",
   "id": "ae67244e",
   "metadata": {},
   "source": [
    "`.asfreq()` method\n",
    "\n",
    "* this is for more frequent data; works the same if you want less frequent data (but you will drop data - lose data)\n",
    "* only works with **ordered** data"
   ]
  },
  {
   "cell_type": "code",
   "execution_count": 119,
   "id": "54f5e47f",
   "metadata": {},
   "outputs": [
    {
     "data": {
      "text/plain": [
       "2024-01-01 00:00:00   -0.393337\n",
       "2024-01-01 00:45:00   -0.393337\n",
       "2024-01-01 01:30:00    0.504862\n",
       "2024-01-01 02:15:00    0.498541\n",
       "2024-01-01 03:00:00    0.098339\n",
       "Freq: 45T, dtype: float64"
      ]
     },
     "execution_count": 119,
     "metadata": {},
     "output_type": "execute_result"
    }
   ],
   "source": [
    "# to convert to every 45mins with forward-fill\n",
    "converted = ts.asfreq('45Min', method='ffill')\n",
    "converted.head()"
   ]
  },
  {
   "cell_type": "markdown",
   "id": "d703703d",
   "metadata": {},
   "source": [
    "points in time are not defined $\\therefore$ `ffill` takes care of that"
   ]
  },
  {
   "cell_type": "code",
   "execution_count": 120,
   "id": "8ba7b8fe",
   "metadata": {},
   "outputs": [
    {
     "data": {
      "text/plain": [
       "(72,)"
      ]
     },
     "execution_count": 120,
     "metadata": {},
     "output_type": "execute_result"
    }
   ],
   "source": [
    "ts.shape"
   ]
  },
  {
   "cell_type": "code",
   "execution_count": 121,
   "id": "4be1d4d7",
   "metadata": {},
   "outputs": [
    {
     "data": {
      "text/plain": [
       "(95,)"
      ]
     },
     "execution_count": 121,
     "metadata": {},
     "output_type": "execute_result"
    }
   ],
   "source": [
    "converted.shape"
   ]
  },
  {
   "cell_type": "markdown",
   "id": "84ce12b5",
   "metadata": {},
   "source": [
    "`.resample()` method\n",
    "* more flexible, can be used to even out irregular time series\n",
    "* could think of it as an aggregation object vs more limited asfreq"
   ]
  },
  {
   "cell_type": "code",
   "execution_count": 123,
   "id": "25234c59",
   "metadata": {},
   "outputs": [
    {
     "data": {
      "text/plain": [
       "2024-01-01 02:00:00    0.298440\n",
       "2024-01-01 04:00:00   -0.168597\n",
       "2024-01-01 06:00:00    0.172232\n",
       "2024-01-01 08:00:00    0.865022\n",
       "2024-01-01 10:00:00   -0.897810\n",
       "2024-01-01 12:00:00   -0.462403\n",
       "2024-01-01 14:00:00   -0.449240\n",
       "2024-01-01 16:00:00   -0.080209\n",
       "2024-01-01 18:00:00    0.659325\n",
       "Freq: 2H, dtype: float64"
      ]
     },
     "execution_count": 123,
     "metadata": {},
     "output_type": "execute_result"
    }
   ],
   "source": [
    "ts.resample('2H').mean()[1:10]"
   ]
  },
  {
   "cell_type": "code",
   "execution_count": 128,
   "id": "4eeeded3",
   "metadata": {},
   "outputs": [
    {
     "data": {
      "text/plain": [
       "2024-01-01 00:00:00   -0.393337\n",
       "2024-01-01 01:00:00    0.504862\n",
       "2024-01-01 02:00:00    0.498541\n",
       "2024-01-01 03:00:00    0.098339\n",
       "2024-01-01 04:00:00    0.759361\n",
       "Freq: H, dtype: float64"
      ]
     },
     "execution_count": 128,
     "metadata": {},
     "output_type": "execute_result"
    }
   ],
   "source": [
    "ts.head()"
   ]
  },
  {
   "cell_type": "code",
   "execution_count": 130,
   "id": "3dacca84",
   "metadata": {},
   "outputs": [
    {
     "data": {
      "text/plain": [
       "2024-01-02 00:00:00   -0.307027\n",
       "2024-01-01 16:00:00   -1.364402\n",
       "2024-01-03 06:00:00    1.524989\n",
       "2024-01-02 05:00:00    0.254291\n",
       "2024-01-01 11:00:00   -0.735384\n",
       "dtype: float64"
      ]
     },
     "execution_count": 130,
     "metadata": {},
     "output_type": "execute_result"
    }
   ],
   "source": [
    "# what about irregular timeseries?\n",
    "irreg_rng = rng.to_series().sample(frac=0.8).index\n",
    "irreg_ts = ts.reindex(irreg_rng)\n",
    "\n",
    "irreg_ts.head()"
   ]
  },
  {
   "cell_type": "code",
   "execution_count": 134,
   "id": "ba440731",
   "metadata": {},
   "outputs": [
    {
     "data": {
      "text/plain": [
       "2024-01-01    0.122333\n",
       "2024-01-02    0.078611\n",
       "2024-01-03   -0.052825\n",
       "Freq: D, dtype: float64"
      ]
     },
     "execution_count": 134,
     "metadata": {},
     "output_type": "execute_result"
    }
   ],
   "source": [
    "irreg_ts.resample('D').mean() # you would have to sort first if you wanted to use `.asfreq()`"
   ]
  },
  {
   "cell_type": "markdown",
   "id": "53e44006",
   "metadata": {},
   "source": [
    "### 5 - Moving Window Functions"
   ]
  },
  {
   "cell_type": "markdown",
   "id": "4c08e41f",
   "metadata": {},
   "source": [
    "rolling windows vs expanding windows\n",
    "- rolling window takes a more piecewise view of your data, aggregates over 3 days for e.g:\n",
    "- expanding window yields values of statistic cumulatively (with all data available up to that point)\n",
    "\n",
    "windows introduce latency; ways to get around this -- weighted average for e.g (think about autocorrelation)\n",
    "\n",
    "recall in time series - **points tend to relate to one another**\n",
    "\n",
    "one way to look at this is by differencing/shifting"
   ]
  },
  {
   "cell_type": "code",
   "execution_count": 145,
   "id": "8d35f8ab",
   "metadata": {},
   "outputs": [],
   "source": [
    "ts = pd.Series(np.random.randn(20),pd.date_range('7/1/16',freq = 'H',periods =20))\n",
    "ts_lagged = ts.shift(5) # notice it shifts into the future"
   ]
  },
  {
   "cell_type": "code",
   "execution_count": 146,
   "id": "8bcae041",
   "metadata": {},
   "outputs": [
    {
     "data": {
      "text/plain": [
       "[<matplotlib.lines.Line2D at 0x146f92140>]"
      ]
     },
     "execution_count": 146,
     "metadata": {},
     "output_type": "execute_result"
    },
    {
     "data": {
      "image/png": "[encoded data removed]",
      "text/plain": [
       "<Figure size 640x480 with 1 Axes>"
      ]
     },
     "metadata": {},
     "output_type": "display_data"
    }
   ],
   "source": [
    "plt.plot(ts, color = 'blue')\n",
    "plt.plot(ts_lagged, color = 'red')"
   ]
  },
  {
   "cell_type": "code",
   "execution_count": 148,
   "id": "877e3881",
   "metadata": {},
   "outputs": [
    {
     "data": {
      "text/plain": [
       "[<matplotlib.lines.Line2D at 0x1470a1cc0>]"
      ]
     },
     "execution_count": 148,
     "metadata": {},
     "output_type": "execute_result"
    },
    {
     "data": {
      "image/png": "[encoded data removed]",
      "text/plain": [
       "<Figure size 640x480 with 1 Axes>"
      ]
     },
     "metadata": {},
     "output_type": "display_data"
    }
   ],
   "source": [
    "ts = pd.Series(np.random.randn(20),pd.date_range('7/1/16',freq = 'H',periods =20))\n",
    "ts_lagged = ts.shift(-5)\n",
    "plt.plot(ts_lagged, color = 'red')\n",
    "plt.plot(ts, color = 'blue')\n"
   ]
  },
  {
   "cell_type": "code",
   "execution_count": 151,
   "id": "8ca7e14a",
   "metadata": {},
   "outputs": [],
   "source": [
    "df = pd.DataFrame(np.random.randn(600, 3), index = \n",
    "                  pd.date_range('7/1/2016', freq = 'D', periods = 600), \n",
    "                  columns = ['A', 'B', 'C'])"
   ]
  },
  {
   "cell_type": "code",
   "execution_count": 152,
   "id": "72c020ef",
   "metadata": {},
   "outputs": [
    {
     "data": {
      "text/plain": [
       "DatetimeIndex(['2016-07-01', '2016-07-02', '2016-07-03', '2016-07-04',\n",
       "               '2016-07-05', '2016-07-06', '2016-07-07', '2016-07-08',\n",
       "               '2016-07-09', '2016-07-10',\n",
       "               ...\n",
       "               '2018-02-11', '2018-02-12', '2018-02-13', '2018-02-14',\n",
       "               '2018-02-15', '2018-02-16', '2018-02-17', '2018-02-18',\n",
       "               '2018-02-19', '2018-02-20'],\n",
       "              dtype='datetime64[ns]', length=600, freq='D')"
      ]
     },
     "execution_count": 152,
     "metadata": {},
     "output_type": "execute_result"
    }
   ],
   "source": [
    "df.index"
   ]
  },
  {
   "cell_type": "markdown",
   "id": "a58caacc",
   "metadata": {},
   "source": [
    "`.rolling()` method\n",
    "* think about window as row-counts; you need to specify dependent on freq\n",
    "* rolling is just an aggregation object -- it does not do anything until you specify what to do it to (i.e: Statistics)\n",
    "* common example in finance 20D MA in code: `ma20 = spy_df['Close'].rolling(20).mean()`\n",
    "\n",
    "r.agg, r.apply, r.count, r.exclusions, r.max, r.median, r.name, r.quantile, r.kurt, r.cov, r.corr, r.aggregate, r.std, r.skew, r.sum, r.var\n",
    "\n",
    "can use `.apply(lambda x:...)` for custom functions"
   ]
  },
  {
   "cell_type": "code",
   "execution_count": 153,
   "id": "ae66ea5f",
   "metadata": {},
   "outputs": [
    {
     "data": {
      "text/plain": [
       "<Axes: >"
      ]
     },
     "execution_count": 153,
     "metadata": {},
     "output_type": "execute_result"
    },
    {
     "data": {
      "image/png": "[encoded data removed]",
      "text/plain": [
       "<Figure size 640x480 with 1 Axes>"
      ]
     },
     "metadata": {},
     "output_type": "display_data"
    }
   ],
   "source": [
    "#pd.rolling_mean(df, window = 2)[1:10] # in future versions you want to resample separately\n",
    "r = df.rolling(window = 10)\n",
    "df['A'].plot(color='grey')\n",
    "r.mean()['A'].plot(color='red')"
   ]
  },
  {
   "cell_type": "markdown",
   "id": "19a35c97",
   "metadata": {},
   "source": [
    "suppose you have daily data; want to generate rolling window for monthly data instead."
   ]
  },
  {
   "cell_type": "code",
   "execution_count": 155,
   "id": "7665a4a7",
   "metadata": {},
   "outputs": [
    {
     "data": {
      "text/plain": [
       "<Axes: >"
      ]
     },
     "execution_count": 155,
     "metadata": {},
     "output_type": "execute_result"
    },
    {
     "data": {
      "image/png": "[encoded data removed]",
      "text/plain": [
       "<Figure size 640x480 with 1 Axes>"
      ]
     },
     "metadata": {},
     "output_type": "display_data"
    }
   ],
   "source": [
    "ts_long = pd.Series(np.random.randn(200),pd.date_range('7/1/16',freq = 'D',periods =200))\n",
    "ts_long.resample('M').mean().rolling(window=3).mean().plot()"
   ]
  },
  {
   "cell_type": "markdown",
   "id": "6956b0de",
   "metadata": {},
   "source": [
    "how about exponentially weighted moving average? `.ewm()` method!\n",
    "\n",
    "* older values are given less weight, recent values are given higher weight\n",
    "\n",
    "pandas calculates EWM with the given formula: $$\\text{EWMA}_t = \\alpha*X_t + (1-\\alpha)*\\text{EWMA}_{t-1}$$ \n",
    "\n",
    "where $\\alpha$ is the smoothing factor.\n",
    "\n",
    "ref: https://pandas.pydata.org/docs/reference/api/pandas.DataFrame.ewm.html"
   ]
  },
  {
   "cell_type": "code",
   "execution_count": 159,
   "id": "cbf0aa80",
   "metadata": {},
   "outputs": [
    {
     "data": {
      "text/plain": [
       "<Axes: >"
      ]
     },
     "execution_count": 159,
     "metadata": {},
     "output_type": "execute_result"
    },
    {
     "data": {
      "image/png": "[encoded data removed]",
      "text/plain": [
       "<Figure size 640x480 with 1 Axes>"
      ]
     },
     "metadata": {},
     "output_type": "display_data"
    }
   ],
   "source": [
    "ts = pd.Series(np.random.randn(200),pd.date_range('7/1/16',freq = 'D',periods =200))\n",
    "ts.ewm(span=60,min_periods=0,adjust=True).mean().plot()\n",
    "ts.rolling(window=60).mean().plot()"
   ]
  }
 ],
 "metadata": {
  "kernelspec": {
   "display_name": "Python 3 (ipykernel)",
   "language": "python",
   "name": "python3"
  },
  "language_info": {
   "codemirror_mode": {
    "name": "ipython",
    "version": 3
   },
   "file_extension": ".py",
   "mimetype": "text/x-python",
   "name": "python",
   "nbconvert_exporter": "python",
   "pygments_lexer": "ipython3",
   "version": "3.10.9"
  }
 },
 "nbformat": 4,
 "nbformat_minor": 5
}
